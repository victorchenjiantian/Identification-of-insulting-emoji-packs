{
 "cells": [
  {
   "cell_type": "markdown",
   "metadata": {},
   "source": [
    "## 导入库"
   ]
  },
  {
   "cell_type": "code",
   "execution_count": 26,
   "metadata": {},
   "outputs": [],
   "source": [
    "import keras\n",
    "#from PIL import Image\n",
    "from keras import layers\n",
    "import matplotlib.pyplot as plt\n",
    "import numpy as np\n",
    "import cv2\n",
    "import tensorflow as tf\n",
    "#from PIL import Image\n",
    "from keras.utils import to_categorical\n",
    "import random"
   ]
  },
  {
   "cell_type": "markdown",
   "metadata": {},
   "source": [
    "## 数据预处理"
   ]
  },
  {
   "cell_type": "code",
   "execution_count": 34,
   "metadata": {},
   "outputs": [
    {
     "name": "stdout",
     "output_type": "stream",
     "text": [
      "train_per: 0.6\n",
      "val_per: 0.2\n",
      "test_per: 0.2\n"
     ]
    }
   ],
   "source": [
    "train_per = 0.6\n",
    "val_per = 0.2\n",
    "test_per = 1 - train_per - val_per\n",
    "print(\"train_per:\", train_per)\n",
    "print(\"val_per:\", val_per)\n",
    "print(\"test_per:\", test_per)"
   ]
  },
  {
   "cell_type": "code",
   "execution_count": 35,
   "metadata": {},
   "outputs": [
    {
     "name": "stdout",
     "output_type": "stream",
     "text": [
      "train_num: 1884\n",
      "val_num: 628\n",
      "test_num: 628\n"
     ]
    }
   ],
   "source": [
    "image1 = [None] * 1573\n",
    "label1 = [None] * 1573\n",
    "image2 = [None] * 1573\n",
    "label2 = [None] * 1573\n",
    "#创建数据集列表\n",
    "data_amount = 0\n",
    "\n",
    "n = 0\n",
    "\n",
    "#insulting\n",
    "for i in range(1,1571):\n",
    "    #\n",
    "    data_place_one = './data_training_20240217/insulting/' + str(i) + '.jpg'\n",
    "    #print(data_place_one)\n",
    "    img_2 = cv2.imread(data_place_one)\n",
    "    if img_2 is not None:\n",
    "        n += 1\n",
    "        data_amount += 1\n",
    "        image1[i-1] = np.array(img_2)\n",
    "        label1[i-1] = 1\n",
    "    else:\n",
    "        pass\n",
    "        #print(\"Failed to load image. or not exist\")\n",
    "\n",
    "#uninsulting\n",
    "for i in range(1,1571):\n",
    "    data_place_one = './data_training_20240217/uninsulting/' + str(i) + '.jpg'\n",
    "    #print(data_place_one)\n",
    "    img_2 = cv2.imread(data_place_one)\n",
    "    if img_2 is not None:\n",
    "        n += 1\n",
    "        data_amount += 1\n",
    "        image2[i-1] = np.array(img_2)\n",
    "        label2[i-1] = 0\n",
    "    else:\n",
    "        pass\n",
    "        #print(\"Failed to load image. or not exist\")\n",
    "#print(img)\n",
    "\n",
    "label = label1+label2\n",
    "image = image1+image2\n",
    "\n",
    "#删除空值\n",
    "label = [x for x in label if x != None]\n",
    "image = [x for x in image if np.any(x)]\n",
    "\n",
    "\n",
    "combined_list = list(zip(label, image))\n",
    "# 打乱元组列表\n",
    "random.shuffle(combined_list)\n",
    "# 恢复两个列表\n",
    "label, image = zip(*combined_list)\n",
    "\n",
    "train_num = round(len(image) * train_per)\n",
    "val_num = round(len(image) * val_per)\n",
    "test_num = round(len(image) * test_per)\n",
    "print(\"train_num:\",train_num)\n",
    "print(\"val_num:\",val_num)\n",
    "print(\"test_num:\",test_num)\n",
    "\n",
    "val_image = image[train_num : train_num + val_num]\n",
    "val_label = label[train_num : train_num + val_num]\n",
    "test_image = image[train_num + val_num :]\n",
    "test_label = label[train_num + val_num :]\n",
    "train_image = image[: train_num]\n",
    "train_label = label[: train_num]"
   ]
  },
  {
   "cell_type": "code",
   "execution_count": 36,
   "metadata": {},
   "outputs": [],
   "source": [
    "train_label = np.array(train_label)\n",
    "train_image = np.array(train_image)\n",
    "val_label = np.array(val_label)\n",
    "val_image = np.array(val_image)\n",
    "test_label = np.array(test_label)\n",
    "test_image = np.array(test_image)\n",
    "#print(train_label.shape)\n",
    "# 将标签数据进行one-hot编码\n",
    "train_label_encoded = to_categorical(train_label, num_classes=2)\n",
    "test_label_encoded = to_categorical(test_label, num_classes=2)\n",
    "val_label_encoded = to_categorical(val_label, num_classes=2)"
   ]
  },
  {
   "cell_type": "markdown",
   "metadata": {},
   "source": [
    "## 模型构建"
   ]
  },
  {
   "cell_type": "code",
   "execution_count": 59,
   "metadata": {},
   "outputs": [],
   "source": [
    "data_augmentation = keras.Sequential(\n",
    "    [\n",
    "        layers.RandomFlip(\"horizontal\"),\n",
    "        layers.RandomRotation(0.1),\n",
    "        layers.RandomZoom(0.2),\n",
    "    ]\n",
    ")"
   ]
  },
  {
   "cell_type": "markdown",
   "metadata": {},
   "source": [
    "#### 残差投影"
   ]
  },
  {
   "cell_type": "code",
   "execution_count": 48,
   "metadata": {},
   "outputs": [],
   "source": [
    "def C1(x):\n",
    "    x = layers.Conv2D(filters=8, kernel_size=3, activation=\"relu\", padding=\"same\")(x)\n",
    "    x = layers.Dropout(0.5)(x)\n",
    "    x = layers.MaxPooling2D(pool_size=2)(x)\n",
    "    return x"
   ]
  },
  {
   "cell_type": "code",
   "execution_count": 49,
   "metadata": {},
   "outputs": [],
   "source": [
    "def residual_block(x, filters_size1, filters_size2, filters_size3, stride = 1):\n",
    "    residual = x\n",
    "    x = layers.Conv2D(filters = filters_size1, kernel_size=1, activation=\"relu\", padding=\"same\")(x)\n",
    "    x = layers.Dropout(0.5)(x)\n",
    "    x = layers.Conv2D(filters = filters_size2, kernel_size=3, activation=\"relu\", strides = stride, padding=\"same\")(x)\n",
    "    x = layers.Dropout(0.5)(x)\n",
    "    x = layers.Conv2D(filters = filters_size3, kernel_size=1, activation=\"relu\", padding=\"same\")(x)\n",
    "    x = layers.Dropout(0.5)(x)\n",
    "\n",
    "    residual = layers.Conv2D(filters = filters_size3, kernel_size=1, activation=\"relu\", strides = stride, padding=\"same\")(residual)\n",
    "    x = layers.Dropout(0.5)(x)\n",
    "\n",
    "    x = layers.add([x,residual])\n",
    "    return x\n",
    "\n"
   ]
  },
  {
   "cell_type": "code",
   "execution_count": 50,
   "metadata": {},
   "outputs": [],
   "source": [
    "inputs_emoji = keras.Input(shape=(128,128,3))\n",
    "#x = data_augmentation(inputs_emoji)\n",
    "#x = layers.Rescaling(1./255)(x)\n",
    "x = C1(inputs_emoji)\n",
    "x = residual_block(x, 8,8,32,stride = 2)\n",
    "x = residual_block(x, 16,16,64,stride = 2)\n",
    "x = residual_block(x, 32,32,128,stride = 2)\n",
    "x = layers.Flatten()(x)\n",
    "outputs_result = layers.Dense(2,activation=\"sigmoid\")(x)\n",
    "model = keras.Model(inputs = inputs_emoji,outputs = outputs_result)"
   ]
  },
  {
   "cell_type": "code",
   "execution_count": 51,
   "metadata": {},
   "outputs": [
    {
     "name": "stdout",
     "output_type": "stream",
     "text": [
      "Model: \"model_1\"\n",
      "__________________________________________________________________________________________________\n",
      " Layer (type)                Output Shape                 Param #   Connected to                  \n",
      "==================================================================================================\n",
      " input_3 (InputLayer)        [(None, 128, 128, 3)]        0         []                            \n",
      "                                                                                                  \n",
      " conv2d_18 (Conv2D)          (None, 128, 128, 8)          224       ['input_3[0][0]']             \n",
      "                                                                                                  \n",
      " max_pooling2d_2 (MaxPoolin  (None, 64, 64, 8)            0         ['conv2d_18[0][0]']           \n",
      " g2D)                                                                                             \n",
      "                                                                                                  \n",
      " conv2d_19 (Conv2D)          (None, 64, 64, 8)            72        ['max_pooling2d_2[0][0]']     \n",
      "                                                                                                  \n",
      " conv2d_20 (Conv2D)          (None, 32, 32, 8)            584       ['conv2d_19[0][0]']           \n",
      "                                                                                                  \n",
      " conv2d_21 (Conv2D)          (None, 32, 32, 32)           288       ['conv2d_20[0][0]']           \n",
      "                                                                                                  \n",
      " conv2d_22 (Conv2D)          (None, 32, 32, 32)           288       ['max_pooling2d_2[0][0]']     \n",
      "                                                                                                  \n",
      " add_3 (Add)                 (None, 32, 32, 32)           0         ['conv2d_21[0][0]',           \n",
      "                                                                     'conv2d_22[0][0]']           \n",
      "                                                                                                  \n",
      " conv2d_23 (Conv2D)          (None, 32, 32, 16)           528       ['add_3[0][0]']               \n",
      "                                                                                                  \n",
      " conv2d_24 (Conv2D)          (None, 16, 16, 16)           2320      ['conv2d_23[0][0]']           \n",
      "                                                                                                  \n",
      " conv2d_25 (Conv2D)          (None, 16, 16, 64)           1088      ['conv2d_24[0][0]']           \n",
      "                                                                                                  \n",
      " conv2d_26 (Conv2D)          (None, 16, 16, 64)           2112      ['add_3[0][0]']               \n",
      "                                                                                                  \n",
      " add_4 (Add)                 (None, 16, 16, 64)           0         ['conv2d_25[0][0]',           \n",
      "                                                                     'conv2d_26[0][0]']           \n",
      "                                                                                                  \n",
      " conv2d_27 (Conv2D)          (None, 16, 16, 32)           2080      ['add_4[0][0]']               \n",
      "                                                                                                  \n",
      " conv2d_28 (Conv2D)          (None, 8, 8, 32)             9248      ['conv2d_27[0][0]']           \n",
      "                                                                                                  \n",
      " conv2d_29 (Conv2D)          (None, 8, 8, 128)            4224      ['conv2d_28[0][0]']           \n",
      "                                                                                                  \n",
      " conv2d_30 (Conv2D)          (None, 8, 8, 128)            8320      ['add_4[0][0]']               \n",
      "                                                                                                  \n",
      " add_5 (Add)                 (None, 8, 8, 128)            0         ['conv2d_29[0][0]',           \n",
      "                                                                     'conv2d_30[0][0]']           \n",
      "                                                                                                  \n",
      " flatten_1 (Flatten)         (None, 8192)                 0         ['add_5[0][0]']               \n",
      "                                                                                                  \n",
      " dense_1 (Dense)             (None, 2)                    16386     ['flatten_1[0][0]']           \n",
      "                                                                                                  \n",
      "==================================================================================================\n",
      "Total params: 47762 (186.57 KB)\n",
      "Trainable params: 47762 (186.57 KB)\n",
      "Non-trainable params: 0 (0.00 Byte)\n",
      "__________________________________________________________________________________________________\n",
      "You must install pydot (`pip install pydot`) and install graphviz (see instructions at https://graphviz.gitlab.io/download/) for plot_model to work.\n"
     ]
    }
   ],
   "source": [
    "model.summary()\n",
    "keras.utils.plot_model(model,show_shapes=True)"
   ]
  },
  {
   "cell_type": "code",
   "execution_count": 52,
   "metadata": {},
   "outputs": [],
   "source": [
    "callbacks_list = [\n",
    "    \n",
    "    keras.callbacks.ModelCheckpoint(\n",
    "        filepath='./model/model_HGCN_20240405t1545.h5',\n",
    "        monitor=\"val_loss\",\n",
    "        save_best_only=True\n",
    "    )\n",
    "]"
   ]
  },
  {
   "cell_type": "code",
   "execution_count": 53,
   "metadata": {},
   "outputs": [],
   "source": [
    "model.compile(optimizer='rmsprop',\n",
    "              loss = 'binary_crossentropy',\n",
    "              metrics=['accuracy'])"
   ]
  },
  {
   "cell_type": "markdown",
   "metadata": {},
   "source": [
    "## 模型训练"
   ]
  },
  {
   "cell_type": "code",
   "execution_count": 54,
   "metadata": {},
   "outputs": [
    {
     "name": "stdout",
     "output_type": "stream",
     "text": [
      "Epoch 1/30\n",
      "19/19 [==============================] - 5s 229ms/step - loss: 8.2234 - accuracy: 0.5255 - val_loss: 0.9340 - val_accuracy: 0.5605\n",
      "Epoch 2/30\n",
      "19/19 [==============================] - 4s 237ms/step - loss: 1.1052 - accuracy: 0.5801 - val_loss: 0.9616 - val_accuracy: 0.5939\n",
      "Epoch 3/30\n",
      "19/19 [==============================] - 6s 312ms/step - loss: 0.7077 - accuracy: 0.6253 - val_loss: 0.6446 - val_accuracy: 0.6561\n",
      "Epoch 4/30\n",
      "19/19 [==============================] - 6s 328ms/step - loss: 0.6408 - accuracy: 0.6550 - val_loss: 0.5745 - val_accuracy: 0.6943\n",
      "Epoch 5/30\n",
      "19/19 [==============================] - 6s 333ms/step - loss: 0.5538 - accuracy: 0.7256 - val_loss: 0.6848 - val_accuracy: 0.6338\n",
      "Epoch 6/30\n",
      "19/19 [==============================] - 6s 328ms/step - loss: 0.5333 - accuracy: 0.7426 - val_loss: 0.6387 - val_accuracy: 0.6672\n",
      "Epoch 7/30\n",
      "19/19 [==============================] - 6s 328ms/step - loss: 0.4976 - accuracy: 0.7505 - val_loss: 0.5409 - val_accuracy: 0.7309\n",
      "Epoch 8/30\n",
      "19/19 [==============================] - 6s 327ms/step - loss: 0.4327 - accuracy: 0.8174 - val_loss: 0.5885 - val_accuracy: 0.7261\n",
      "Epoch 9/30\n",
      "19/19 [==============================] - 6s 327ms/step - loss: 0.3840 - accuracy: 0.8386 - val_loss: 0.5051 - val_accuracy: 0.7532\n",
      "Epoch 10/30\n",
      "19/19 [==============================] - 6s 329ms/step - loss: 0.3487 - accuracy: 0.8546 - val_loss: 0.5277 - val_accuracy: 0.7436\n",
      "Epoch 11/30\n",
      "19/19 [==============================] - 6s 328ms/step - loss: 0.3049 - accuracy: 0.8800 - val_loss: 0.5134 - val_accuracy: 0.7500\n",
      "Epoch 12/30\n",
      "19/19 [==============================] - 6s 328ms/step - loss: 0.2915 - accuracy: 0.8869 - val_loss: 0.5006 - val_accuracy: 0.7882\n",
      "Epoch 13/30\n",
      "19/19 [==============================] - 6s 313ms/step - loss: 0.2129 - accuracy: 0.9262 - val_loss: 0.6231 - val_accuracy: 0.7659\n",
      "Epoch 14/30\n",
      "19/19 [==============================] - 6s 322ms/step - loss: 0.2230 - accuracy: 0.9114 - val_loss: 0.5255 - val_accuracy: 0.7803\n",
      "Epoch 15/30\n",
      "19/19 [==============================] - 6s 325ms/step - loss: 0.1695 - accuracy: 0.9400 - val_loss: 1.3836 - val_accuracy: 0.5605\n",
      "Epoch 16/30\n",
      "19/19 [==============================] - 6s 327ms/step - loss: 0.1883 - accuracy: 0.9321 - val_loss: 0.8539 - val_accuracy: 0.6720\n",
      "Epoch 17/30\n",
      "19/19 [==============================] - 7s 355ms/step - loss: 0.1224 - accuracy: 0.9634 - val_loss: 0.6283 - val_accuracy: 0.7882\n",
      "Epoch 18/30\n",
      "19/19 [==============================] - 6s 330ms/step - loss: 0.1389 - accuracy: 0.9506 - val_loss: 0.8029 - val_accuracy: 0.7420\n",
      "Epoch 19/30\n",
      "19/19 [==============================] - 6s 316ms/step - loss: 0.1003 - accuracy: 0.9692 - val_loss: 0.7914 - val_accuracy: 0.7787\n",
      "Epoch 20/30\n",
      "19/19 [==============================] - 6s 319ms/step - loss: 0.1295 - accuracy: 0.9549 - val_loss: 0.7248 - val_accuracy: 0.7675\n",
      "Epoch 21/30\n",
      "19/19 [==============================] - 6s 319ms/step - loss: 0.1118 - accuracy: 0.9666 - val_loss: 0.6735 - val_accuracy: 0.7723\n",
      "Epoch 22/30\n",
      "19/19 [==============================] - 6s 317ms/step - loss: 0.0490 - accuracy: 0.9915 - val_loss: 0.7609 - val_accuracy: 0.7755\n",
      "Epoch 23/30\n",
      "19/19 [==============================] - 6s 313ms/step - loss: 0.1152 - accuracy: 0.9628 - val_loss: 0.8276 - val_accuracy: 0.7707\n",
      "Epoch 24/30\n",
      "19/19 [==============================] - 6s 337ms/step - loss: 0.1119 - accuracy: 0.9719 - val_loss: 0.8524 - val_accuracy: 0.7373\n",
      "Epoch 25/30\n",
      "19/19 [==============================] - 3s 171ms/step - loss: 0.0422 - accuracy: 0.9920 - val_loss: 0.8075 - val_accuracy: 0.7803\n",
      "Epoch 26/30\n",
      "19/19 [==============================] - 3s 171ms/step - loss: 0.0350 - accuracy: 0.9910 - val_loss: 1.2814 - val_accuracy: 0.7150\n",
      "Epoch 27/30\n",
      "19/19 [==============================] - 3s 177ms/step - loss: 0.0822 - accuracy: 0.9766 - val_loss: 0.8884 - val_accuracy: 0.7850\n",
      "Epoch 28/30\n",
      "19/19 [==============================] - 3s 181ms/step - loss: 0.0902 - accuracy: 0.9729 - val_loss: 0.7284 - val_accuracy: 0.7930\n",
      "Epoch 29/30\n",
      "19/19 [==============================] - 3s 183ms/step - loss: 0.0213 - accuracy: 0.9973 - val_loss: 0.9402 - val_accuracy: 0.7898\n",
      "Epoch 30/30\n",
      "19/19 [==============================] - 4s 186ms/step - loss: 0.0886 - accuracy: 0.9676 - val_loss: 0.7768 - val_accuracy: 0.7898\n"
     ]
    }
   ],
   "source": [
    "epochs_ = 30\n",
    "history = model.fit(train_image,\n",
    "        train_label_encoded,\n",
    "        epochs=epochs_,\n",
    "        batch_size=100,\n",
    "        #callbacks=callbacks_list,\n",
    "        validation_data=(val_image,val_label_encoded)\n",
    "        )"
   ]
  },
  {
   "cell_type": "code",
   "execution_count": 55,
   "metadata": {},
   "outputs": [],
   "source": [
    "model.save('./model/model_HGCN_20240405t1545.h5')"
   ]
  },
  {
   "cell_type": "markdown",
   "metadata": {},
   "source": [
    "## 模型评估"
   ]
  },
  {
   "cell_type": "code",
   "execution_count": 56,
   "metadata": {},
   "outputs": [
    {
     "name": "stdout",
     "output_type": "stream",
     "text": [
      "dict_keys(['loss', 'accuracy', 'val_loss', 'val_accuracy'])\n"
     ]
    },
    {
     "data": {
      "image/png": "[encoded data removed]",
      "text/plain": [
       "<Figure size 640x480 with 1 Axes>"
      ]
     },
     "metadata": {},
     "output_type": "display_data"
    }
   ],
   "source": [
    "history_dir = history.history\n",
    "print(history_dir.keys())\n",
    "loss_values = history_dir[\"loss\"]\n",
    "accuracy_values = history_dir[\"accuracy\"]\n",
    "val_loss_values = history_dir[\"val_loss\"]\n",
    "val_accuracy_values = history_dir[\"val_accuracy\"]\n",
    "x_epochs = range(1,epochs_+1)\n",
    "plt.plot(x_epochs,loss_values,\"r\",label = \"train_loss\")\n",
    "plt.plot(x_epochs,val_loss_values,\"b\",label = \"validation_loss\")\n",
    "plt.title(\"training and validation loss\")\n",
    "plt.xlabel(\"epochs\")\n",
    "plt.ylabel(\"loss\")\n",
    "plt.legend()\n",
    "plt.show()"
   ]
  },
  {
   "cell_type": "code",
   "execution_count": 57,
   "metadata": {},
   "outputs": [
    {
     "data": {
      "image/png": "[encoded data removed]",
      "text/plain": [
       "<Figure size 640x480 with 1 Axes>"
      ]
     },
     "metadata": {},
     "output_type": "display_data"
    }
   ],
   "source": [
    "plt.plot(x_epochs,accuracy_values,\"r\",label = \"train_accuracy\")\n",
    "plt.plot(x_epochs,val_accuracy_values,\"b\",label = \"validation_accuracy\")\n",
    "plt.title(\"training and validation accuracy\")\n",
    "plt.xlabel(\"epochs\")\n",
    "plt.ylabel(\"accuracy\")\n",
    "plt.legend()\n",
    "plt.show()"
   ]
  },
  {
   "cell_type": "code",
   "execution_count": 58,
   "metadata": {},
   "outputs": [
    {
     "name": "stdout",
     "output_type": "stream",
     "text": [
      "20/20 [==============================] - 0s 21ms/step - loss: 0.7278 - accuracy: 0.7850\n",
      "test_loss: 0.7278202176094055 ; test_accuracy: 0.7850318551063538\n",
      "20/20 [==============================] - 1s 21ms/step\n",
      "原始： [0 0 1 0 0 1 1 1 0 1 0 1 1 1 0 1 0 0 1 1]\n",
      "结果： [0 0 1 0 0 0 1 1 0 1 0 0 1 1 0 1 0 1 1 0]\n"
     ]
    }
   ],
   "source": [
    "results = model.evaluate(test_image,test_label_encoded)\n",
    "print(\"test_loss:\",results[0],\"; test_accuracy:\",results[1])\n",
    "\n",
    "y = np.argmax(model.predict(test_image[:]),axis=1)\n",
    "print('原始：',y[:20])\n",
    "print('结果：',test_label[:20])"
   ]
  },
  {
   "cell_type": "code",
   "execution_count": null,
   "metadata": {},
   "outputs": [],
   "source": []
  }
 ],
 "metadata": {
  "kernelspec": {
   "display_name": "base",
   "language": "python",
   "name": "python3"
  },
  "language_info": {
   "codemirror_mode": {
    "name": "ipython",
    "version": 3
   },
   "file_extension": ".py",
   "mimetype": "text/x-python",
   "name": "python",
   "nbconvert_exporter": "python",
   "pygments_lexer": "ipython3",
   "version": "3.10.9"
  }
 },
 "nbformat": 4,
 "nbformat_minor": 2
}
