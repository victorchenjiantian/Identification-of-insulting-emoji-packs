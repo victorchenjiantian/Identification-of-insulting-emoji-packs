{
 "cells": [
  {
   "cell_type": "markdown",
   "metadata": {},
   "source": [
    "## 导入库"
   ]
  },
  {
   "cell_type": "code",
   "execution_count": 1,
   "metadata": {},
   "outputs": [],
   "source": [
    "import keras\n",
    "#from PIL import Image\n",
    "from keras import layers\n",
    "import matplotlib.pyplot as plt\n",
    "import numpy as np\n",
    "import cv2\n",
    "import tensorflow as tf\n",
    "#from PIL import Image\n",
    "from keras.utils import to_categorical\n",
    "import random"
   ]
  },
  {
   "cell_type": "markdown",
   "metadata": {},
   "source": [
    "## 数据预处理"
   ]
  },
  {
   "cell_type": "code",
   "execution_count": 2,
   "metadata": {},
   "outputs": [
    {
     "name": "stdout",
     "output_type": "stream",
     "text": [
      "train_per: 0.6\n",
      "val_per: 0.2\n",
      "test_per: 0.2\n"
     ]
    }
   ],
   "source": [
    "train_per = 0.6\n",
    "val_per = 0.2\n",
    "test_per = 1 - train_per - val_per\n",
    "print(\"train_per:\", train_per)\n",
    "print(\"val_per:\", val_per)\n",
    "print(\"test_per:\", test_per)"
   ]
  },
  {
   "cell_type": "code",
   "execution_count": 3,
   "metadata": {},
   "outputs": [
    {
     "name": "stdout",
     "output_type": "stream",
     "text": [
      "train_num: 1884\n",
      "val_num: 628\n",
      "test_num: 628\n"
     ]
    }
   ],
   "source": [
    "image1 = [None] * 1573\n",
    "label1 = [None] * 1573\n",
    "image2 = [None] * 1573\n",
    "label2 = [None] * 1573\n",
    "#创建数据集列表\n",
    "data_amount = 0\n",
    "\n",
    "n = 0\n",
    "\n",
    "#insulting\n",
    "for i in range(1,1571):\n",
    "    #\n",
    "    data_place_one = './data_training_20240217/insulting/' + str(i) + '.jpg'\n",
    "    #print(data_place_one)\n",
    "    img_2 = cv2.imread(data_place_one)\n",
    "    if img_2 is not None:\n",
    "        n += 1\n",
    "        data_amount += 1\n",
    "        image1[i-1] = np.array(img_2)\n",
    "        label1[i-1] = 1\n",
    "    else:\n",
    "        pass\n",
    "        #print(\"Failed to load image. or not exist\")\n",
    "\n",
    "#uninsulting\n",
    "for i in range(1,1571):\n",
    "    data_place_one = './data_training_20240217/uninsulting/' + str(i) + '.jpg'\n",
    "    #print(data_place_one)\n",
    "    img_2 = cv2.imread(data_place_one)\n",
    "    if img_2 is not None:\n",
    "        n += 1\n",
    "        data_amount += 1\n",
    "        image2[i-1] = np.array(img_2)\n",
    "        label2[i-1] = 0\n",
    "    else:\n",
    "        pass\n",
    "        #print(\"Failed to load image. or not exist\")\n",
    "#print(img)\n",
    "\n",
    "label = label1+label2\n",
    "image = image1+image2\n",
    "\n",
    "#删除空值\n",
    "label = [x for x in label if x != None]\n",
    "image = [x for x in image if np.any(x)]\n",
    "\n",
    "\n",
    "combined_list = list(zip(label, image))\n",
    "# 打乱元组列表\n",
    "random.shuffle(combined_list)\n",
    "# 恢复两个列表\n",
    "label, image = zip(*combined_list)\n",
    "\n",
    "train_num = round(len(image) * train_per)\n",
    "val_num = round(len(image) * val_per)\n",
    "test_num = round(len(image) * test_per)\n",
    "print(\"train_num:\",train_num)\n",
    "print(\"val_num:\",val_num)\n",
    "print(\"test_num:\",test_num)\n",
    "\n",
    "val_image = image[train_num : train_num + val_num]\n",
    "val_label = label[train_num : train_num + val_num]\n",
    "test_image = image[train_num + val_num :]\n",
    "test_label = label[train_num + val_num :]\n",
    "train_image = image[: train_num]\n",
    "train_label = label[: train_num]"
   ]
  },
  {
   "cell_type": "code",
   "execution_count": 4,
   "metadata": {},
   "outputs": [],
   "source": [
    "train_label = np.array(train_label)\n",
    "train_image = np.array(train_image)\n",
    "val_label = np.array(val_label)\n",
    "val_image = np.array(val_image)\n",
    "test_label = np.array(test_label)\n",
    "test_image = np.array(test_image)\n",
    "#print(train_label.shape)\n",
    "# 将标签数据进行one-hot编码\n",
    "train_label_encoded = to_categorical(train_label, num_classes=2)\n",
    "test_label_encoded = to_categorical(test_label, num_classes=2)\n",
    "val_label_encoded = to_categorical(val_label, num_classes=2)"
   ]
  },
  {
   "cell_type": "markdown",
   "metadata": {},
   "source": [
    "## 模型构建"
   ]
  },
  {
   "cell_type": "code",
   "execution_count": 20,
   "metadata": {},
   "outputs": [],
   "source": [
    "data_augmentation = keras.Sequential(\n",
    "    [\n",
    "        layers.RandomFlip(\"horizontal\"),\n",
    "        layers.RandomRotation(0.1),\n",
    "        layers.RandomZoom(0.2),\n",
    "    ]\n",
    ")"
   ]
  },
  {
   "cell_type": "markdown",
   "metadata": {},
   "source": [
    "#### 残差投影"
   ]
  },
  {
   "cell_type": "code",
   "execution_count": 21,
   "metadata": {},
   "outputs": [],
   "source": [
    "def C1(x):\n",
    "    x = layers.Conv2D(filters=8, kernel_size=3, activation=\"relu\", padding=\"same\")(x)\n",
    "    x = layers.MaxPooling2D(pool_size=2)(x)\n",
    "    return x"
   ]
  },
  {
   "cell_type": "code",
   "execution_count": 22,
   "metadata": {},
   "outputs": [],
   "source": [
    "def residual_block(x, filters_size1, filters_size2, filters_size3, stride = 1):\n",
    "    residual = x\n",
    "    x = layers.Conv2D(filters = filters_size1, kernel_size=1, activation=\"relu\", padding=\"same\")(x)\n",
    "    x = layers.Conv2D(filters = filters_size2, kernel_size=3, activation=\"relu\", strides = stride, padding=\"same\")(x)\n",
    "    x = layers.Conv2D(filters = filters_size3, kernel_size=1, activation=\"relu\", padding=\"same\")(x)\n",
    "\n",
    "    residual = layers.Conv2D(filters = filters_size3, kernel_size=1, activation=\"relu\", strides = stride, padding=\"same\")(residual)\n",
    "\n",
    "    x = layers.add([x,residual])\n",
    "    return x\n",
    "\n"
   ]
  },
  {
   "cell_type": "code",
   "execution_count": 23,
   "metadata": {},
   "outputs": [],
   "source": [
    "inputs_emoji = keras.Input(shape=(128,128,3))\n",
    "#x = data_augmentation(inputs_emoji)\n",
    "#x = layers.Rescaling(1./255)(x)\n",
    "x = C1(inputs_emoji)\n",
    "x = residual_block(x, 8,8,32,stride = 2)\n",
    "x = residual_block(x, 16,16,64,stride = 2)\n",
    "x = residual_block(x, 32,32,128,stride = 2)\n",
    "x = layers.Flatten()(x)\n",
    "outputs_result = layers.Dense(2,activation=\"sigmoid\")(x)\n",
    "model = keras.Model(inputs = inputs_emoji,outputs = outputs_result)"
   ]
  },
  {
   "cell_type": "code",
   "execution_count": 24,
   "metadata": {},
   "outputs": [
    {
     "name": "stdout",
     "output_type": "stream",
     "text": [
      "Model: \"model_1\"\n",
      "__________________________________________________________________________________________________\n",
      " Layer (type)                Output Shape                 Param #   Connected to                  \n",
      "==================================================================================================\n",
      " input_2 (InputLayer)        [(None, 128, 128, 3)]        0         []                            \n",
      "                                                                                                  \n",
      " conv2d_13 (Conv2D)          (None, 128, 128, 8)          224       ['input_2[0][0]']             \n",
      "                                                                                                  \n",
      " max_pooling2d_1 (MaxPoolin  (None, 64, 64, 8)            0         ['conv2d_13[0][0]']           \n",
      " g2D)                                                                                             \n",
      "                                                                                                  \n",
      " conv2d_14 (Conv2D)          (None, 64, 64, 8)            72        ['max_pooling2d_1[0][0]']     \n",
      "                                                                                                  \n",
      " conv2d_15 (Conv2D)          (None, 32, 32, 8)            584       ['conv2d_14[0][0]']           \n",
      "                                                                                                  \n",
      " conv2d_16 (Conv2D)          (None, 32, 32, 32)           288       ['conv2d_15[0][0]']           \n",
      "                                                                                                  \n",
      " conv2d_17 (Conv2D)          (None, 32, 32, 32)           288       ['max_pooling2d_1[0][0]']     \n",
      "                                                                                                  \n",
      " add_3 (Add)                 (None, 32, 32, 32)           0         ['conv2d_16[0][0]',           \n",
      "                                                                     'conv2d_17[0][0]']           \n",
      "                                                                                                  \n",
      " conv2d_18 (Conv2D)          (None, 32, 32, 16)           528       ['add_3[0][0]']               \n",
      "                                                                                                  \n",
      " conv2d_19 (Conv2D)          (None, 16, 16, 16)           2320      ['conv2d_18[0][0]']           \n",
      "                                                                                                  \n",
      " conv2d_20 (Conv2D)          (None, 16, 16, 64)           1088      ['conv2d_19[0][0]']           \n",
      "                                                                                                  \n",
      " conv2d_21 (Conv2D)          (None, 16, 16, 64)           2112      ['add_3[0][0]']               \n",
      "                                                                                                  \n",
      " add_4 (Add)                 (None, 16, 16, 64)           0         ['conv2d_20[0][0]',           \n",
      "                                                                     'conv2d_21[0][0]']           \n",
      "                                                                                                  \n",
      " conv2d_22 (Conv2D)          (None, 16, 16, 32)           2080      ['add_4[0][0]']               \n",
      "                                                                                                  \n",
      " conv2d_23 (Conv2D)          (None, 8, 8, 32)             9248      ['conv2d_22[0][0]']           \n",
      "                                                                                                  \n",
      " conv2d_24 (Conv2D)          (None, 8, 8, 128)            4224      ['conv2d_23[0][0]']           \n",
      "                                                                                                  \n",
      " conv2d_25 (Conv2D)          (None, 8, 8, 128)            8320      ['add_4[0][0]']               \n",
      "                                                                                                  \n",
      " add_5 (Add)                 (None, 8, 8, 128)            0         ['conv2d_24[0][0]',           \n",
      "                                                                     'conv2d_25[0][0]']           \n",
      "                                                                                                  \n",
      " flatten_1 (Flatten)         (None, 8192)                 0         ['add_5[0][0]']               \n",
      "                                                                                                  \n",
      " dense_1 (Dense)             (None, 2)                    16386     ['flatten_1[0][0]']           \n",
      "                                                                                                  \n",
      "==================================================================================================\n",
      "Total params: 47762 (186.57 KB)\n",
      "Trainable params: 47762 (186.57 KB)\n",
      "Non-trainable params: 0 (0.00 Byte)\n",
      "__________________________________________________________________________________________________\n",
      "You must install pydot (`pip install pydot`) and install graphviz (see instructions at https://graphviz.gitlab.io/download/) for plot_model to work.\n"
     ]
    }
   ],
   "source": [
    "model.summary()\n",
    "keras.utils.plot_model(model,show_shapes=True)"
   ]
  },
  {
   "cell_type": "code",
   "execution_count": 25,
   "metadata": {},
   "outputs": [],
   "source": [
    "callbacks_list = [\n",
    "    \n",
    "    keras.callbacks.ModelCheckpoint(\n",
    "        filepath='./model/model_HGCN_20240405t1600.h5',\n",
    "        monitor=\"val_loss\",\n",
    "        save_best_only=True\n",
    "    )\n",
    "]"
   ]
  },
  {
   "cell_type": "code",
   "execution_count": 26,
   "metadata": {},
   "outputs": [],
   "source": [
    "model.compile(optimizer='rmsprop',\n",
    "              loss = 'binary_crossentropy',\n",
    "              metrics=['accuracy'])"
   ]
  },
  {
   "cell_type": "markdown",
   "metadata": {},
   "source": [
    "## 模型训练"
   ]
  },
  {
   "cell_type": "code",
   "execution_count": 15,
   "metadata": {},
   "outputs": [
    {
     "name": "stdout",
     "output_type": "stream",
     "text": [
      "Epoch 1/100\n",
      "19/19 [==============================] - 7s 316ms/step - loss: 11.2222 - accuracy: 0.5409 - val_loss: 2.0466 - val_accuracy: 0.5127\n",
      "Epoch 2/100\n",
      "19/19 [==============================] - 6s 318ms/step - loss: 2.3930 - accuracy: 0.5499 - val_loss: 0.7177 - val_accuracy: 0.6131\n",
      "Epoch 3/100\n",
      "19/19 [==============================] - 9s 457ms/step - loss: 1.2852 - accuracy: 0.5685 - val_loss: 0.6223 - val_accuracy: 0.6290\n",
      "Epoch 4/100\n",
      "19/19 [==============================] - 10s 545ms/step - loss: 0.9514 - accuracy: 0.5839 - val_loss: 0.6053 - val_accuracy: 0.7054\n",
      "Epoch 5/100\n",
      "19/19 [==============================] - 10s 550ms/step - loss: 0.6986 - accuracy: 0.6407 - val_loss: 0.5903 - val_accuracy: 0.6481\n",
      "Epoch 6/100\n",
      "19/19 [==============================] - 10s 553ms/step - loss: 0.6368 - accuracy: 0.6741 - val_loss: 0.5723 - val_accuracy: 0.7102\n",
      "Epoch 7/100\n",
      "19/19 [==============================] - 10s 546ms/step - loss: 0.6334 - accuracy: 0.6762 - val_loss: 0.5761 - val_accuracy: 0.7086\n",
      "Epoch 8/100\n",
      "19/19 [==============================] - 10s 553ms/step - loss: 0.5841 - accuracy: 0.7091 - val_loss: 0.5642 - val_accuracy: 0.7102\n",
      "Epoch 9/100\n",
      "19/19 [==============================] - 10s 548ms/step - loss: 0.5602 - accuracy: 0.7171 - val_loss: 0.5831 - val_accuracy: 0.6863\n",
      "Epoch 10/100\n",
      "19/19 [==============================] - 11s 560ms/step - loss: 0.5313 - accuracy: 0.7399 - val_loss: 0.5661 - val_accuracy: 0.7086\n",
      "Epoch 11/100\n",
      "19/19 [==============================] - 10s 544ms/step - loss: 0.5269 - accuracy: 0.7521 - val_loss: 0.5728 - val_accuracy: 0.6975\n",
      "Epoch 12/100\n",
      "19/19 [==============================] - 11s 559ms/step - loss: 0.5160 - accuracy: 0.7431 - val_loss: 0.5919 - val_accuracy: 0.6624\n",
      "Epoch 13/100\n",
      "19/19 [==============================] - 11s 572ms/step - loss: 0.4900 - accuracy: 0.7744 - val_loss: 0.5753 - val_accuracy: 0.6927\n",
      "Epoch 14/100\n",
      "19/19 [==============================] - 11s 557ms/step - loss: 0.4904 - accuracy: 0.7638 - val_loss: 0.5483 - val_accuracy: 0.7261\n",
      "Epoch 15/100\n",
      "19/19 [==============================] - 11s 559ms/step - loss: 0.4728 - accuracy: 0.7771 - val_loss: 0.5981 - val_accuracy: 0.6608\n",
      "Epoch 16/100\n",
      "19/19 [==============================] - 7s 358ms/step - loss: 0.4569 - accuracy: 0.7861 - val_loss: 0.7025 - val_accuracy: 0.6067\n",
      "Epoch 17/100\n",
      "19/19 [==============================] - 5s 272ms/step - loss: 0.4700 - accuracy: 0.7686 - val_loss: 0.5476 - val_accuracy: 0.7293\n",
      "Epoch 18/100\n",
      "19/19 [==============================] - 5s 284ms/step - loss: 0.4347 - accuracy: 0.8052 - val_loss: 0.5722 - val_accuracy: 0.6831\n",
      "Epoch 19/100\n",
      "19/19 [==============================] - 6s 296ms/step - loss: 0.4498 - accuracy: 0.7909 - val_loss: 0.5568 - val_accuracy: 0.7102\n",
      "Epoch 20/100\n",
      "19/19 [==============================] - 6s 298ms/step - loss: 0.4349 - accuracy: 0.7903 - val_loss: 0.6000 - val_accuracy: 0.6561\n",
      "Epoch 21/100\n",
      "19/19 [==============================] - 6s 301ms/step - loss: 0.4299 - accuracy: 0.8004 - val_loss: 0.5581 - val_accuracy: 0.7038\n",
      "Epoch 22/100\n",
      "19/19 [==============================] - 6s 303ms/step - loss: 0.4241 - accuracy: 0.8057 - val_loss: 0.6172 - val_accuracy: 0.6688\n",
      "Epoch 23/100\n",
      "19/19 [==============================] - 6s 306ms/step - loss: 0.4252 - accuracy: 0.7967 - val_loss: 0.6166 - val_accuracy: 0.6497\n",
      "Epoch 24/100\n",
      "19/19 [==============================] - 6s 311ms/step - loss: 0.3987 - accuracy: 0.8206 - val_loss: 0.5539 - val_accuracy: 0.7277\n",
      "Epoch 25/100\n",
      "19/19 [==============================] - 6s 306ms/step - loss: 0.3973 - accuracy: 0.8142 - val_loss: 0.5293 - val_accuracy: 0.7627\n",
      "Epoch 26/100\n",
      "19/19 [==============================] - 6s 309ms/step - loss: 0.4165 - accuracy: 0.8110 - val_loss: 0.5684 - val_accuracy: 0.6975\n",
      "Epoch 27/100\n",
      "19/19 [==============================] - 6s 313ms/step - loss: 0.3996 - accuracy: 0.8163 - val_loss: 0.5493 - val_accuracy: 0.7389\n",
      "Epoch 28/100\n",
      "19/19 [==============================] - 6s 309ms/step - loss: 0.3732 - accuracy: 0.8349 - val_loss: 0.5295 - val_accuracy: 0.7468\n",
      "Epoch 29/100\n",
      "19/19 [==============================] - 6s 311ms/step - loss: 0.3686 - accuracy: 0.8328 - val_loss: 0.5429 - val_accuracy: 0.7404\n",
      "Epoch 30/100\n",
      "19/19 [==============================] - 6s 310ms/step - loss: 0.3938 - accuracy: 0.8259 - val_loss: 0.5650 - val_accuracy: 0.7197\n",
      "Epoch 31/100\n",
      "19/19 [==============================] - 6s 309ms/step - loss: 0.3734 - accuracy: 0.8445 - val_loss: 0.5321 - val_accuracy: 0.7484\n",
      "Epoch 32/100\n",
      "19/19 [==============================] - 6s 318ms/step - loss: 0.3727 - accuracy: 0.8317 - val_loss: 0.5505 - val_accuracy: 0.7325\n",
      "Epoch 33/100\n",
      "19/19 [==============================] - 6s 324ms/step - loss: 0.3676 - accuracy: 0.8344 - val_loss: 0.5808 - val_accuracy: 0.7022\n",
      "Epoch 34/100\n",
      "19/19 [==============================] - 6s 326ms/step - loss: 0.3636 - accuracy: 0.8445 - val_loss: 0.6186 - val_accuracy: 0.6799\n",
      "Epoch 35/100\n",
      "19/19 [==============================] - 6s 329ms/step - loss: 0.3407 - accuracy: 0.8429 - val_loss: 0.5740 - val_accuracy: 0.7229\n",
      "Epoch 36/100\n",
      "19/19 [==============================] - 6s 330ms/step - loss: 0.3583 - accuracy: 0.8344 - val_loss: 0.5720 - val_accuracy: 0.7086\n",
      "Epoch 37/100\n",
      "19/19 [==============================] - 6s 334ms/step - loss: 0.3651 - accuracy: 0.8355 - val_loss: 0.6000 - val_accuracy: 0.6927\n",
      "Epoch 38/100\n",
      "19/19 [==============================] - 7s 346ms/step - loss: 0.3361 - accuracy: 0.8562 - val_loss: 0.6075 - val_accuracy: 0.7102\n",
      "Epoch 39/100\n",
      "19/19 [==============================] - 7s 346ms/step - loss: 0.3535 - accuracy: 0.8429 - val_loss: 0.5794 - val_accuracy: 0.7197\n",
      "Epoch 40/100\n",
      "19/19 [==============================] - 7s 365ms/step - loss: 0.3301 - accuracy: 0.8471 - val_loss: 0.5513 - val_accuracy: 0.7325\n",
      "Epoch 41/100\n",
      "19/19 [==============================] - 7s 357ms/step - loss: 0.3459 - accuracy: 0.8540 - val_loss: 0.5750 - val_accuracy: 0.7054\n",
      "Epoch 42/100\n",
      "19/19 [==============================] - 7s 347ms/step - loss: 0.3548 - accuracy: 0.8455 - val_loss: 0.5967 - val_accuracy: 0.6990\n",
      "Epoch 43/100\n",
      "19/19 [==============================] - 7s 343ms/step - loss: 0.3273 - accuracy: 0.8556 - val_loss: 0.5416 - val_accuracy: 0.7436\n",
      "Epoch 44/100\n",
      "19/19 [==============================] - 6s 340ms/step - loss: 0.3379 - accuracy: 0.8530 - val_loss: 0.5953 - val_accuracy: 0.6959\n",
      "Epoch 45/100\n",
      "19/19 [==============================] - 6s 341ms/step - loss: 0.3314 - accuracy: 0.8450 - val_loss: 0.5853 - val_accuracy: 0.6990\n",
      "Epoch 46/100\n",
      "19/19 [==============================] - 7s 345ms/step - loss: 0.3173 - accuracy: 0.8657 - val_loss: 0.5721 - val_accuracy: 0.7261\n",
      "Epoch 47/100\n",
      "19/19 [==============================] - 7s 348ms/step - loss: 0.3469 - accuracy: 0.8455 - val_loss: 0.6272 - val_accuracy: 0.7006\n",
      "Epoch 48/100\n",
      "19/19 [==============================] - 7s 347ms/step - loss: 0.3070 - accuracy: 0.8737 - val_loss: 0.5812 - val_accuracy: 0.7341\n",
      "Epoch 49/100\n",
      "19/19 [==============================] - 6s 342ms/step - loss: 0.3115 - accuracy: 0.8604 - val_loss: 0.5502 - val_accuracy: 0.7420\n",
      "Epoch 50/100\n",
      "19/19 [==============================] - 7s 350ms/step - loss: 0.3195 - accuracy: 0.8652 - val_loss: 0.5538 - val_accuracy: 0.7404\n",
      "Epoch 51/100\n",
      "19/19 [==============================] - 7s 351ms/step - loss: 0.2981 - accuracy: 0.8731 - val_loss: 0.5619 - val_accuracy: 0.7452\n",
      "Epoch 52/100\n",
      "19/19 [==============================] - 7s 348ms/step - loss: 0.3100 - accuracy: 0.8726 - val_loss: 0.5767 - val_accuracy: 0.7389\n",
      "Epoch 53/100\n",
      "19/19 [==============================] - 7s 350ms/step - loss: 0.3102 - accuracy: 0.8684 - val_loss: 0.5961 - val_accuracy: 0.7166\n",
      "Epoch 54/100\n",
      "19/19 [==============================] - 7s 349ms/step - loss: 0.3019 - accuracy: 0.8684 - val_loss: 0.6275 - val_accuracy: 0.6990\n",
      "Epoch 55/100\n",
      "19/19 [==============================] - 7s 354ms/step - loss: 0.3250 - accuracy: 0.8652 - val_loss: 0.5329 - val_accuracy: 0.7611\n",
      "Epoch 56/100\n",
      "19/19 [==============================] - 7s 348ms/step - loss: 0.3089 - accuracy: 0.8715 - val_loss: 0.5369 - val_accuracy: 0.7675\n",
      "Epoch 57/100\n",
      "19/19 [==============================] - 7s 352ms/step - loss: 0.2922 - accuracy: 0.8721 - val_loss: 0.6631 - val_accuracy: 0.6879\n",
      "Epoch 58/100\n",
      "19/19 [==============================] - 7s 346ms/step - loss: 0.3309 - accuracy: 0.8535 - val_loss: 0.5345 - val_accuracy: 0.7420\n",
      "Epoch 59/100\n",
      "19/19 [==============================] - 6s 339ms/step - loss: 0.2856 - accuracy: 0.8785 - val_loss: 0.6209 - val_accuracy: 0.6959\n",
      "Epoch 60/100\n",
      "19/19 [==============================] - 7s 344ms/step - loss: 0.3052 - accuracy: 0.8694 - val_loss: 0.6189 - val_accuracy: 0.6959\n",
      "Epoch 61/100\n",
      "19/19 [==============================] - 7s 344ms/step - loss: 0.3166 - accuracy: 0.8615 - val_loss: 0.5726 - val_accuracy: 0.7261\n",
      "Epoch 62/100\n",
      "19/19 [==============================] - 6s 340ms/step - loss: 0.2909 - accuracy: 0.8742 - val_loss: 0.5905 - val_accuracy: 0.7134\n",
      "Epoch 63/100\n",
      "19/19 [==============================] - 6s 338ms/step - loss: 0.2841 - accuracy: 0.8795 - val_loss: 0.5723 - val_accuracy: 0.7500\n",
      "Epoch 64/100\n",
      "19/19 [==============================] - 6s 333ms/step - loss: 0.3061 - accuracy: 0.8753 - val_loss: 0.5889 - val_accuracy: 0.7118\n",
      "Epoch 65/100\n",
      "19/19 [==============================] - 6s 333ms/step - loss: 0.2878 - accuracy: 0.8822 - val_loss: 0.6781 - val_accuracy: 0.6752\n",
      "Epoch 66/100\n",
      "19/19 [==============================] - 6s 333ms/step - loss: 0.2884 - accuracy: 0.8705 - val_loss: 0.5702 - val_accuracy: 0.7309\n",
      "Epoch 67/100\n",
      "19/19 [==============================] - 6s 330ms/step - loss: 0.2824 - accuracy: 0.8848 - val_loss: 0.6237 - val_accuracy: 0.7022\n",
      "Epoch 68/100\n",
      "19/19 [==============================] - 6s 330ms/step - loss: 0.2836 - accuracy: 0.8795 - val_loss: 0.6765 - val_accuracy: 0.6990\n",
      "Epoch 69/100\n",
      "19/19 [==============================] - 6s 332ms/step - loss: 0.2874 - accuracy: 0.8848 - val_loss: 0.6547 - val_accuracy: 0.6895\n",
      "Epoch 70/100\n",
      "19/19 [==============================] - 6s 335ms/step - loss: 0.2427 - accuracy: 0.8992 - val_loss: 0.6661 - val_accuracy: 0.6990\n",
      "Epoch 71/100\n",
      "19/19 [==============================] - 6s 337ms/step - loss: 0.2786 - accuracy: 0.8816 - val_loss: 0.6094 - val_accuracy: 0.7213\n",
      "Epoch 72/100\n",
      "19/19 [==============================] - 6s 332ms/step - loss: 0.2779 - accuracy: 0.8832 - val_loss: 0.7566 - val_accuracy: 0.6465\n",
      "Epoch 73/100\n",
      "19/19 [==============================] - 6s 332ms/step - loss: 0.2757 - accuracy: 0.8832 - val_loss: 0.6175 - val_accuracy: 0.7038\n",
      "Epoch 74/100\n",
      "19/19 [==============================] - 6s 331ms/step - loss: 0.2935 - accuracy: 0.8790 - val_loss: 0.5636 - val_accuracy: 0.7468\n",
      "Epoch 75/100\n",
      "19/19 [==============================] - 6s 335ms/step - loss: 0.2489 - accuracy: 0.8986 - val_loss: 0.7630 - val_accuracy: 0.6720\n",
      "Epoch 76/100\n",
      "19/19 [==============================] - 6s 334ms/step - loss: 0.2582 - accuracy: 0.8949 - val_loss: 0.6108 - val_accuracy: 0.7373\n",
      "Epoch 77/100\n",
      "19/19 [==============================] - 6s 340ms/step - loss: 0.3197 - accuracy: 0.8763 - val_loss: 0.6319 - val_accuracy: 0.7134\n",
      "Epoch 78/100\n",
      "19/19 [==============================] - 6s 338ms/step - loss: 0.2726 - accuracy: 0.8790 - val_loss: 0.6508 - val_accuracy: 0.6959\n",
      "Epoch 79/100\n",
      "19/19 [==============================] - 6s 331ms/step - loss: 0.2645 - accuracy: 0.8949 - val_loss: 0.6043 - val_accuracy: 0.7070\n",
      "Epoch 80/100\n",
      "19/19 [==============================] - 6s 329ms/step - loss: 0.2708 - accuracy: 0.8875 - val_loss: 0.5946 - val_accuracy: 0.7373\n",
      "Epoch 81/100\n",
      "19/19 [==============================] - 6s 333ms/step - loss: 0.2762 - accuracy: 0.8838 - val_loss: 0.5831 - val_accuracy: 0.7548\n",
      "Epoch 82/100\n",
      "19/19 [==============================] - 6s 330ms/step - loss: 0.2798 - accuracy: 0.8923 - val_loss: 0.5833 - val_accuracy: 0.7564\n",
      "Epoch 83/100\n",
      "19/19 [==============================] - 6s 343ms/step - loss: 0.2680 - accuracy: 0.8917 - val_loss: 0.7084 - val_accuracy: 0.6927\n",
      "Epoch 84/100\n",
      "19/19 [==============================] - 6s 334ms/step - loss: 0.2444 - accuracy: 0.8965 - val_loss: 0.6182 - val_accuracy: 0.7309\n",
      "Epoch 85/100\n",
      "19/19 [==============================] - 6s 332ms/step - loss: 0.2647 - accuracy: 0.8928 - val_loss: 0.6544 - val_accuracy: 0.7309\n",
      "Epoch 86/100\n",
      "19/19 [==============================] - 6s 330ms/step - loss: 0.2723 - accuracy: 0.8854 - val_loss: 0.6409 - val_accuracy: 0.7038\n",
      "Epoch 87/100\n",
      "19/19 [==============================] - 6s 332ms/step - loss: 0.2712 - accuracy: 0.8891 - val_loss: 0.6410 - val_accuracy: 0.7022\n",
      "Epoch 88/100\n",
      "19/19 [==============================] - 6s 329ms/step - loss: 0.2507 - accuracy: 0.9023 - val_loss: 0.6741 - val_accuracy: 0.7070\n",
      "Epoch 89/100\n",
      "19/19 [==============================] - 6s 331ms/step - loss: 0.2346 - accuracy: 0.9061 - val_loss: 0.6965 - val_accuracy: 0.6911\n",
      "Epoch 90/100\n",
      "19/19 [==============================] - 6s 332ms/step - loss: 0.2539 - accuracy: 0.8981 - val_loss: 0.6394 - val_accuracy: 0.7293\n",
      "Epoch 91/100\n",
      "19/19 [==============================] - 6s 328ms/step - loss: 0.2600 - accuracy: 0.8933 - val_loss: 0.6550 - val_accuracy: 0.7118\n",
      "Epoch 92/100\n",
      "19/19 [==============================] - 6s 332ms/step - loss: 0.2509 - accuracy: 0.9055 - val_loss: 0.6240 - val_accuracy: 0.7389\n",
      "Epoch 93/100\n",
      "19/19 [==============================] - 6s 332ms/step - loss: 0.2583 - accuracy: 0.8970 - val_loss: 0.6030 - val_accuracy: 0.7389\n",
      "Epoch 94/100\n",
      "19/19 [==============================] - 6s 331ms/step - loss: 0.2569 - accuracy: 0.8965 - val_loss: 0.6000 - val_accuracy: 0.7484\n",
      "Epoch 95/100\n",
      "19/19 [==============================] - 6s 337ms/step - loss: 0.2134 - accuracy: 0.9177 - val_loss: 0.6668 - val_accuracy: 0.7245\n",
      "Epoch 96/100\n",
      "19/19 [==============================] - 6s 331ms/step - loss: 0.2646 - accuracy: 0.8880 - val_loss: 0.6521 - val_accuracy: 0.7166\n",
      "Epoch 97/100\n",
      "19/19 [==============================] - 6s 330ms/step - loss: 0.2502 - accuracy: 0.8960 - val_loss: 0.5662 - val_accuracy: 0.7787\n",
      "Epoch 98/100\n",
      "19/19 [==============================] - 6s 330ms/step - loss: 0.2446 - accuracy: 0.8986 - val_loss: 0.6668 - val_accuracy: 0.7261\n",
      "Epoch 99/100\n",
      "19/19 [==============================] - 6s 331ms/step - loss: 0.2302 - accuracy: 0.8997 - val_loss: 0.6455 - val_accuracy: 0.7468\n",
      "Epoch 100/100\n",
      "19/19 [==============================] - 6s 331ms/step - loss: 0.2373 - accuracy: 0.9055 - val_loss: 0.6386 - val_accuracy: 0.7325\n"
     ]
    }
   ],
   "source": [
    "epochs_ = 100\n",
    "history = model.fit(train_image,\n",
    "        train_label_encoded,\n",
    "        epochs=epochs_,\n",
    "        batch_size=100,\n",
    "        #callbacks=callbacks_list,\n",
    "        validation_data=(val_image,val_label_encoded)\n",
    "        )"
   ]
  },
  {
   "cell_type": "code",
   "execution_count": 16,
   "metadata": {},
   "outputs": [
    {
     "name": "stderr",
     "output_type": "stream",
     "text": [
      "C:\\Users\\Victor\\AppData\\Roaming\\Python\\Python310\\site-packages\\keras\\src\\engine\\training.py:3000: UserWarning: You are saving your model as an HDF5 file via `model.save()`. This file format is considered legacy. We recommend using instead the native Keras format, e.g. `model.save('my_model.keras')`.\n",
      "  saving_api.save_model(\n"
     ]
    }
   ],
   "source": [
    "model.save('./model/model_HGCN_20240405t1600.h5')"
   ]
  },
  {
   "cell_type": "markdown",
   "metadata": {},
   "source": [
    "## 模型评估"
   ]
  },
  {
   "cell_type": "code",
   "execution_count": 17,
   "metadata": {},
   "outputs": [
    {
     "name": "stdout",
     "output_type": "stream",
     "text": [
      "dict_keys(['loss', 'accuracy', 'val_loss', 'val_accuracy'])\n"
     ]
    },
    {
     "data": {
      "image/png": "[encoded data removed]",
      "text/plain": [
       "<Figure size 640x480 with 1 Axes>"
      ]
     },
     "metadata": {},
     "output_type": "display_data"
    }
   ],
   "source": [
    "history_dir = history.history\n",
    "print(history_dir.keys())\n",
    "loss_values = history_dir[\"loss\"]\n",
    "accuracy_values = history_dir[\"accuracy\"]\n",
    "val_loss_values = history_dir[\"val_loss\"]\n",
    "val_accuracy_values = history_dir[\"val_accuracy\"]\n",
    "x_epochs = range(1,epochs_+1)\n",
    "plt.plot(x_epochs,loss_values,\"r\",label = \"train_loss\")\n",
    "plt.plot(x_epochs,val_loss_values,\"b\",label = \"validation_loss\")\n",
    "plt.title(\"training and validation loss\")\n",
    "plt.xlabel(\"epochs\")\n",
    "plt.ylabel(\"loss\")\n",
    "plt.legend()\n",
    "plt.show()"
   ]
  },
  {
   "cell_type": "code",
   "execution_count": 18,
   "metadata": {},
   "outputs": [
    {
     "data": {
      "image/png": "[encoded data removed]",
      "text/plain": [
       "<Figure size 640x480 with 1 Axes>"
      ]
     },
     "metadata": {},
     "output_type": "display_data"
    }
   ],
   "source": [
    "plt.plot(x_epochs,accuracy_values,\"r\",label = \"train_accuracy\")\n",
    "plt.plot(x_epochs,val_accuracy_values,\"b\",label = \"validation_accuracy\")\n",
    "plt.title(\"training and validation accuracy\")\n",
    "plt.xlabel(\"epochs\")\n",
    "plt.ylabel(\"accuracy\")\n",
    "plt.legend()\n",
    "plt.show()"
   ]
  },
  {
   "cell_type": "code",
   "execution_count": 19,
   "metadata": {},
   "outputs": [
    {
     "name": "stdout",
     "output_type": "stream",
     "text": [
      "20/20 [==============================] - 1s 25ms/step - loss: 0.6142 - accuracy: 0.7373\n",
      "test_loss: 0.6141758561134338 ; test_accuracy: 0.737261176109314\n",
      "20/20 [==============================] - 1s 24ms/step\n",
      "原始： [0 1 0 1 1 0 0 0 1 1 1 0 1 1 0 1 1 0 1 1]\n",
      "结果： [0 1 0 1 1 0 0 0 1 1 1 1 1 0 0 1 0 0 1 0]\n"
     ]
    }
   ],
   "source": [
    "results = model.evaluate(test_image,test_label_encoded)\n",
    "print(\"test_loss:\",results[0],\"; test_accuracy:\",results[1])\n",
    "\n",
    "y = np.argmax(model.predict(test_image[:]),axis=1)\n",
    "print('原始：',y[:20])\n",
    "print('结果：',test_label[:20])"
   ]
  },
  {
   "cell_type": "code",
   "execution_count": null,
   "metadata": {},
   "outputs": [],
   "source": []
  }
 ],
 "metadata": {
  "kernelspec": {
   "display_name": "base",
   "language": "python",
   "name": "python3"
  },
  "language_info": {
   "codemirror_mode": {
    "name": "ipython",
    "version": 3
   },
   "file_extension": ".py",
   "mimetype": "text/x-python",
   "name": "python",
   "nbconvert_exporter": "python",
   "pygments_lexer": "ipython3",
   "version": "3.10.9"
  }
 },
 "nbformat": 4,
 "nbformat_minor": 2
}
