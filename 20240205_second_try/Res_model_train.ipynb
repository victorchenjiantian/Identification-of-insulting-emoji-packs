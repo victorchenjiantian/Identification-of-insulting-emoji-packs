{
 "cells": [
  {
   "cell_type": "markdown",
   "metadata": {},
   "source": [
    "## 导入库"
   ]
  },
  {
   "cell_type": "code",
   "execution_count": 1,
   "metadata": {},
   "outputs": [],
   "source": [
    "import keras\n",
    "#from PIL import Image\n",
    "from keras import layers\n",
    "import matplotlib.pyplot as plt\n",
    "import numpy as np\n",
    "import cv2\n",
    "import tensorflow as tf\n",
    "#from PIL import Image\n",
    "from keras.utils import to_categorical\n",
    "import random"
   ]
  },
  {
   "cell_type": "markdown",
   "metadata": {},
   "source": [
    "## 数据预处理"
   ]
  },
  {
   "cell_type": "code",
   "execution_count": 2,
   "metadata": {},
   "outputs": [
    {
     "name": "stdout",
     "output_type": "stream",
     "text": [
      "train_per: 0.6\n",
      "val_per: 0.2\n",
      "test_per: 0.2\n"
     ]
    }
   ],
   "source": [
    "train_per = 0.6\n",
    "val_per = 0.2\n",
    "test_per = 1 - train_per - val_per\n",
    "print(\"train_per:\", train_per)\n",
    "print(\"val_per:\", val_per)\n",
    "print(\"test_per:\", test_per)"
   ]
  },
  {
   "cell_type": "code",
   "execution_count": 3,
   "metadata": {},
   "outputs": [
    {
     "name": "stdout",
     "output_type": "stream",
     "text": [
      "train_num: 1884\n",
      "val_num: 628\n",
      "test_num: 628\n"
     ]
    }
   ],
   "source": [
    "image1 = [None] * 1573\n",
    "label1 = [None] * 1573\n",
    "image2 = [None] * 1573\n",
    "label2 = [None] * 1573\n",
    "#创建数据集列表\n",
    "data_amount = 0\n",
    "\n",
    "n = 0\n",
    "\n",
    "#insulting\n",
    "for i in range(1,1571):\n",
    "    #\n",
    "    data_place_one = './data_training_20240217/insulting/' + str(i) + '.jpg'\n",
    "    #print(data_place_one)\n",
    "    img_2 = cv2.imread(data_place_one)\n",
    "    if img_2 is not None:\n",
    "        n += 1\n",
    "        data_amount += 1\n",
    "        image1[i-1] = np.array(img_2)\n",
    "        label1[i-1] = 1\n",
    "    else:\n",
    "        pass\n",
    "        #print(\"Failed to load image. or not exist\")\n",
    "\n",
    "#uninsulting\n",
    "for i in range(1,1571):\n",
    "    data_place_one = './data_training_20240217/uninsulting/' + str(i) + '.jpg'\n",
    "    #print(data_place_one)\n",
    "    img_2 = cv2.imread(data_place_one)\n",
    "    if img_2 is not None:\n",
    "        n += 1\n",
    "        data_amount += 1\n",
    "        image2[i-1] = np.array(img_2)\n",
    "        label2[i-1] = 0\n",
    "    else:\n",
    "        pass\n",
    "        #print(\"Failed to load image. or not exist\")\n",
    "#print(img)\n",
    "\n",
    "label = label1+label2\n",
    "image = image1+image2\n",
    "\n",
    "#删除空值\n",
    "label = [x for x in label if x != None]\n",
    "image = [x for x in image if np.any(x)]\n",
    "\n",
    "\n",
    "combined_list = list(zip(label, image))\n",
    "# 打乱元组列表\n",
    "random.shuffle(combined_list)\n",
    "# 恢复两个列表\n",
    "label, image = zip(*combined_list)\n",
    "\n",
    "train_num = round(len(image) * train_per)\n",
    "val_num = round(len(image) * val_per)\n",
    "test_num = round(len(image) * test_per)\n",
    "print(\"train_num:\",train_num)\n",
    "print(\"val_num:\",val_num)\n",
    "print(\"test_num:\",test_num)\n",
    "\n",
    "val_image = image[train_num : train_num + val_num]\n",
    "val_label = label[train_num : train_num + val_num]\n",
    "test_image = image[train_num + val_num :]\n",
    "test_label = label[train_num + val_num :]\n",
    "train_image = image[: train_num]\n",
    "train_label = label[: train_num]"
   ]
  },
  {
   "cell_type": "code",
   "execution_count": 4,
   "metadata": {},
   "outputs": [],
   "source": [
    "train_label = np.array(train_label)\n",
    "train_image = np.array(train_image)\n",
    "val_label = np.array(val_label)\n",
    "val_image = np.array(val_image)\n",
    "test_label = np.array(test_label)\n",
    "test_image = np.array(test_image)\n",
    "#print(train_label.shape)\n",
    "# 将标签数据进行one-hot编码\n",
    "train_label_encoded = to_categorical(train_label, num_classes=2)\n",
    "test_label_encoded = to_categorical(test_label, num_classes=2)\n",
    "val_label_encoded = to_categorical(val_label, num_classes=2)"
   ]
  },
  {
   "cell_type": "markdown",
   "metadata": {},
   "source": [
    "## 模型构建"
   ]
  },
  {
   "cell_type": "code",
   "execution_count": 5,
   "metadata": {},
   "outputs": [],
   "source": [
    "data_augmentation = keras.Sequential(\n",
    "    [\n",
    "        layers.RandomFlip(\"horizontal\"),\n",
    "        layers.RandomRotation(0.1),\n",
    "        layers.RandomZoom(0.2),\n",
    "    ]\n",
    ")"
   ]
  },
  {
   "cell_type": "markdown",
   "metadata": {},
   "source": [
    "#### 残差投影"
   ]
  },
  {
   "cell_type": "code",
   "execution_count": 6,
   "metadata": {},
   "outputs": [],
   "source": [
    "def C1(x):\n",
    "    x = layers.Conv2D(filters=8, kernel_size=3, activation=\"relu\", padding=\"same\")(x)\n",
    "    x = layers.MaxPooling2D(pool_size=2)(x)\n",
    "    return x"
   ]
  },
  {
   "cell_type": "code",
   "execution_count": 7,
   "metadata": {},
   "outputs": [],
   "source": [
    "def residual_block(x, filters_size1, filters_size2, filters_size3, stride = 1):\n",
    "    residual = x\n",
    "    x = layers.Conv2D(filters = filters_size1, kernel_size=1, activation=\"relu\", padding=\"same\")(x)\n",
    "    x = layers.Conv2D(filters = filters_size2, kernel_size=3, activation=\"relu\", strides = stride, padding=\"same\")(x)\n",
    "    x = layers.Conv2D(filters = filters_size3, kernel_size=1, activation=\"relu\", padding=\"same\")(x)\n",
    "\n",
    "    residual = layers.Conv2D(filters = filters_size3, kernel_size=1, activation=\"relu\", strides = stride, padding=\"same\")(residual)\n",
    "\n",
    "    x = layers.add([x,residual])\n",
    "    return x\n",
    "\n"
   ]
  },
  {
   "cell_type": "code",
   "execution_count": 8,
   "metadata": {},
   "outputs": [],
   "source": [
    "inputs_emoji = keras.Input(shape=(128,128,3))\n",
    "#x = data_augmentation(inputs_emoji)\n",
    "#x = layers.Rescaling(1./255)(x)\n",
    "x = C1(inputs_emoji)\n",
    "x = residual_block(x, 8,8,32,stride = 2)\n",
    "x = residual_block(x, 16,16,64,stride = 2)\n",
    "x = residual_block(x, 32,32,128,stride = 2)\n",
    "x = layers.Flatten()(x)\n",
    "outputs_result = layers.Dense(2,activation=\"sigmoid\")(x)\n",
    "model = keras.Model(inputs = inputs_emoji,outputs = outputs_result)"
   ]
  },
  {
   "cell_type": "code",
   "execution_count": 9,
   "metadata": {},
   "outputs": [
    {
     "name": "stdout",
     "output_type": "stream",
     "text": [
      "Model: \"model\"\n",
      "__________________________________________________________________________________________________\n",
      " Layer (type)                Output Shape                 Param #   Connected to                  \n",
      "==================================================================================================\n",
      " input_1 (InputLayer)        [(None, 128, 128, 3)]        0         []                            \n",
      "                                                                                                  \n",
      " conv2d (Conv2D)             (None, 128, 128, 8)          224       ['input_1[0][0]']             \n",
      "                                                                                                  \n",
      " max_pooling2d (MaxPooling2  (None, 64, 64, 8)            0         ['conv2d[0][0]']              \n",
      " D)                                                                                               \n",
      "                                                                                                  \n",
      " conv2d_1 (Conv2D)           (None, 64, 64, 8)            72        ['max_pooling2d[0][0]']       \n",
      "                                                                                                  \n",
      " conv2d_2 (Conv2D)           (None, 32, 32, 8)            584       ['conv2d_1[0][0]']            \n",
      "                                                                                                  \n",
      " conv2d_3 (Conv2D)           (None, 32, 32, 32)           288       ['conv2d_2[0][0]']            \n",
      "                                                                                                  \n",
      " conv2d_4 (Conv2D)           (None, 32, 32, 32)           288       ['max_pooling2d[0][0]']       \n",
      "                                                                                                  \n",
      " add (Add)                   (None, 32, 32, 32)           0         ['conv2d_3[0][0]',            \n",
      "                                                                     'conv2d_4[0][0]']            \n",
      "                                                                                                  \n",
      " conv2d_5 (Conv2D)           (None, 32, 32, 16)           528       ['add[0][0]']                 \n",
      "                                                                                                  \n",
      " conv2d_6 (Conv2D)           (None, 16, 16, 16)           2320      ['conv2d_5[0][0]']            \n",
      "                                                                                                  \n",
      " conv2d_7 (Conv2D)           (None, 16, 16, 64)           1088      ['conv2d_6[0][0]']            \n",
      "                                                                                                  \n",
      " conv2d_8 (Conv2D)           (None, 16, 16, 64)           2112      ['add[0][0]']                 \n",
      "                                                                                                  \n",
      " add_1 (Add)                 (None, 16, 16, 64)           0         ['conv2d_7[0][0]',            \n",
      "                                                                     'conv2d_8[0][0]']            \n",
      "                                                                                                  \n",
      " conv2d_9 (Conv2D)           (None, 16, 16, 32)           2080      ['add_1[0][0]']               \n",
      "                                                                                                  \n",
      " conv2d_10 (Conv2D)          (None, 8, 8, 32)             9248      ['conv2d_9[0][0]']            \n",
      "                                                                                                  \n",
      " conv2d_11 (Conv2D)          (None, 8, 8, 128)            4224      ['conv2d_10[0][0]']           \n",
      "                                                                                                  \n",
      " conv2d_12 (Conv2D)          (None, 8, 8, 128)            8320      ['add_1[0][0]']               \n",
      "                                                                                                  \n",
      " add_2 (Add)                 (None, 8, 8, 128)            0         ['conv2d_11[0][0]',           \n",
      "                                                                     'conv2d_12[0][0]']           \n",
      "                                                                                                  \n",
      " flatten (Flatten)           (None, 8192)                 0         ['add_2[0][0]']               \n",
      "                                                                                                  \n",
      " dense (Dense)               (None, 2)                    16386     ['flatten[0][0]']             \n",
      "                                                                                                  \n",
      "==================================================================================================\n",
      "Total params: 47762 (186.57 KB)\n",
      "Trainable params: 47762 (186.57 KB)\n",
      "Non-trainable params: 0 (0.00 Byte)\n",
      "__________________________________________________________________________________________________\n",
      "You must install pydot (`pip install pydot`) and install graphviz (see instructions at https://graphviz.gitlab.io/download/) for plot_model to work.\n"
     ]
    }
   ],
   "source": [
    "model.summary()\n",
    "keras.utils.plot_model(model,show_shapes=True)"
   ]
  },
  {
   "cell_type": "code",
   "execution_count": 11,
   "metadata": {},
   "outputs": [],
   "source": [
    "callbacks_list = [\n",
    "    \n",
    "    keras.callbacks.ModelCheckpoint(\n",
    "        filepath='./model/model_Res_20240405t1715.h5',\n",
    "        monitor=\"val_loss\",\n",
    "        save_best_only=True\n",
    "    )\n",
    "]"
   ]
  },
  {
   "cell_type": "code",
   "execution_count": 12,
   "metadata": {},
   "outputs": [],
   "source": [
    "model.compile(optimizer='rmsprop',\n",
    "              loss = 'binary_crossentropy',\n",
    "              metrics=['accuracy'])"
   ]
  },
  {
   "cell_type": "markdown",
   "metadata": {},
   "source": [
    "## 模型训练"
   ]
  },
  {
   "cell_type": "code",
   "execution_count": 13,
   "metadata": {},
   "outputs": [
    {
     "name": "stdout",
     "output_type": "stream",
     "text": [
      "Epoch 1/100\n",
      "19/19 [==============================] - 5s 199ms/step - loss: 17.1717 - accuracy: 0.5016 - val_loss: 2.4207 - val_accuracy: 0.5207\n",
      "Epoch 2/100\n",
      "19/19 [==============================] - 4s 186ms/step - loss: 1.9761 - accuracy: 0.5886 - val_loss: 1.0831 - val_accuracy: 0.6401\n",
      "Epoch 3/100\n",
      "19/19 [==============================] - 3s 184ms/step - loss: 0.9642 - accuracy: 0.6200 - val_loss: 0.7425 - val_accuracy: 0.6704\n",
      "Epoch 4/100\n",
      "19/19 [==============================] - 3s 182ms/step - loss: 0.6594 - accuracy: 0.6906 - val_loss: 0.6496 - val_accuracy: 0.6720\n",
      "Epoch 5/100\n",
      "19/19 [==============================] - 4s 185ms/step - loss: 0.6018 - accuracy: 0.7049 - val_loss: 0.6309 - val_accuracy: 0.6545\n",
      "Epoch 6/100\n",
      "19/19 [==============================] - 3s 182ms/step - loss: 0.5101 - accuracy: 0.7447 - val_loss: 0.5843 - val_accuracy: 0.7229\n",
      "Epoch 7/100\n",
      "19/19 [==============================] - 4s 187ms/step - loss: 0.4433 - accuracy: 0.7967 - val_loss: 0.5852 - val_accuracy: 0.7309\n",
      "Epoch 8/100\n",
      "19/19 [==============================] - 4s 189ms/step - loss: 0.4321 - accuracy: 0.8010 - val_loss: 0.6421 - val_accuracy: 0.7070\n",
      "Epoch 9/100\n",
      "19/19 [==============================] - 4s 188ms/step - loss: 0.4046 - accuracy: 0.8307 - val_loss: 0.6267 - val_accuracy: 0.7213\n",
      "Epoch 10/100\n",
      "19/19 [==============================] - 4s 191ms/step - loss: 0.3346 - accuracy: 0.8625 - val_loss: 0.8021 - val_accuracy: 0.6210\n",
      "Epoch 11/100\n",
      "19/19 [==============================] - 4s 191ms/step - loss: 0.3180 - accuracy: 0.8678 - val_loss: 0.6596 - val_accuracy: 0.7325\n",
      "Epoch 12/100\n",
      "19/19 [==============================] - 4s 192ms/step - loss: 0.2567 - accuracy: 0.8997 - val_loss: 0.9642 - val_accuracy: 0.6401\n",
      "Epoch 13/100\n",
      "19/19 [==============================] - 4s 196ms/step - loss: 0.2621 - accuracy: 0.8965 - val_loss: 0.7234 - val_accuracy: 0.7245\n",
      "Epoch 14/100\n",
      "19/19 [==============================] - 4s 197ms/step - loss: 0.2408 - accuracy: 0.9140 - val_loss: 0.7162 - val_accuracy: 0.7325\n",
      "Epoch 15/100\n",
      "19/19 [==============================] - 4s 194ms/step - loss: 0.2595 - accuracy: 0.9098 - val_loss: 0.7047 - val_accuracy: 0.7166\n",
      "Epoch 16/100\n",
      "19/19 [==============================] - 4s 193ms/step - loss: 0.1330 - accuracy: 0.9602 - val_loss: 0.9193 - val_accuracy: 0.7341\n",
      "Epoch 17/100\n",
      "19/19 [==============================] - 4s 191ms/step - loss: 0.1539 - accuracy: 0.9469 - val_loss: 1.0826 - val_accuracy: 0.6911\n",
      "Epoch 18/100\n",
      "19/19 [==============================] - 4s 192ms/step - loss: 0.2478 - accuracy: 0.9092 - val_loss: 0.7828 - val_accuracy: 0.7277\n",
      "Epoch 19/100\n",
      "19/19 [==============================] - 4s 191ms/step - loss: 0.0708 - accuracy: 0.9862 - val_loss: 0.8884 - val_accuracy: 0.7404\n",
      "Epoch 20/100\n",
      "19/19 [==============================] - 4s 188ms/step - loss: 0.2315 - accuracy: 0.9252 - val_loss: 0.8394 - val_accuracy: 0.7420\n",
      "Epoch 21/100\n",
      "19/19 [==============================] - 4s 192ms/step - loss: 0.0620 - accuracy: 0.9835 - val_loss: 0.9687 - val_accuracy: 0.7341\n",
      "Epoch 22/100\n",
      "19/19 [==============================] - 4s 188ms/step - loss: 0.3092 - accuracy: 0.9108 - val_loss: 0.9301 - val_accuracy: 0.7277\n",
      "Epoch 23/100\n",
      "19/19 [==============================] - 4s 200ms/step - loss: 0.0573 - accuracy: 0.9889 - val_loss: 1.0226 - val_accuracy: 0.7309\n",
      "Epoch 24/100\n",
      "19/19 [==============================] - 4s 203ms/step - loss: 0.1425 - accuracy: 0.9554 - val_loss: 1.4896 - val_accuracy: 0.7006\n",
      "Epoch 25/100\n",
      "19/19 [==============================] - 4s 197ms/step - loss: 0.1440 - accuracy: 0.9628 - val_loss: 1.0437 - val_accuracy: 0.7245\n",
      "Epoch 26/100\n",
      "19/19 [==============================] - 4s 203ms/step - loss: 0.0664 - accuracy: 0.9830 - val_loss: 3.9707 - val_accuracy: 0.5223\n",
      "Epoch 27/100\n",
      "19/19 [==============================] - 4s 231ms/step - loss: 0.1700 - accuracy: 0.9682 - val_loss: 1.0439 - val_accuracy: 0.7404\n",
      "Epoch 28/100\n",
      "19/19 [==============================] - 6s 317ms/step - loss: 0.0225 - accuracy: 0.9958 - val_loss: 1.1791 - val_accuracy: 0.7309\n",
      "Epoch 29/100\n",
      "19/19 [==============================] - 4s 193ms/step - loss: 0.3611 - accuracy: 0.9337 - val_loss: 1.0147 - val_accuracy: 0.7166\n",
      "Epoch 30/100\n",
      "19/19 [==============================] - 3s 168ms/step - loss: 0.0358 - accuracy: 0.9942 - val_loss: 1.2252 - val_accuracy: 0.7420\n",
      "Epoch 31/100\n",
      "19/19 [==============================] - 3s 172ms/step - loss: 0.0604 - accuracy: 0.9830 - val_loss: 3.1926 - val_accuracy: 0.5892\n",
      "Epoch 32/100\n",
      "19/19 [==============================] - 3s 182ms/step - loss: 0.1114 - accuracy: 0.9682 - val_loss: 1.2211 - val_accuracy: 0.7245\n",
      "Epoch 33/100\n",
      "19/19 [==============================] - 4s 188ms/step - loss: 0.0133 - accuracy: 0.9963 - val_loss: 1.3510 - val_accuracy: 0.7150\n",
      "Epoch 34/100\n",
      "19/19 [==============================] - 4s 188ms/step - loss: 0.2329 - accuracy: 0.9522 - val_loss: 1.1472 - val_accuracy: 0.7229\n",
      "Epoch 35/100\n",
      "19/19 [==============================] - 4s 191ms/step - loss: 0.0151 - accuracy: 0.9979 - val_loss: 1.3053 - val_accuracy: 0.7213\n",
      "Epoch 36/100\n",
      "19/19 [==============================] - 4s 192ms/step - loss: 0.2600 - accuracy: 0.9554 - val_loss: 1.3664 - val_accuracy: 0.6911\n",
      "Epoch 37/100\n",
      "19/19 [==============================] - 4s 210ms/step - loss: 0.0309 - accuracy: 0.9963 - val_loss: 1.3095 - val_accuracy: 0.7213\n",
      "Epoch 38/100\n",
      "19/19 [==============================] - 4s 200ms/step - loss: 0.0109 - accuracy: 0.9979 - val_loss: 1.4240 - val_accuracy: 0.7277\n",
      "Epoch 39/100\n",
      "19/19 [==============================] - 4s 194ms/step - loss: 0.1509 - accuracy: 0.9697 - val_loss: 1.4024 - val_accuracy: 0.7293\n",
      "Epoch 40/100\n",
      "19/19 [==============================] - 4s 189ms/step - loss: 0.0348 - accuracy: 0.9915 - val_loss: 1.3917 - val_accuracy: 0.7261\n",
      "Epoch 41/100\n",
      "19/19 [==============================] - 4s 192ms/step - loss: 0.0092 - accuracy: 0.9984 - val_loss: 1.4491 - val_accuracy: 0.7277\n",
      "Epoch 42/100\n",
      "19/19 [==============================] - 4s 192ms/step - loss: 0.3235 - accuracy: 0.9480 - val_loss: 1.3178 - val_accuracy: 0.6879\n",
      "Epoch 43/100\n",
      "19/19 [==============================] - 4s 190ms/step - loss: 0.0215 - accuracy: 0.9979 - val_loss: 1.3967 - val_accuracy: 0.7420\n",
      "Epoch 44/100\n",
      "19/19 [==============================] - 4s 193ms/step - loss: 0.0094 - accuracy: 0.9968 - val_loss: 1.5006 - val_accuracy: 0.7341\n",
      "Epoch 45/100\n",
      "19/19 [==============================] - 4s 199ms/step - loss: 0.0063 - accuracy: 0.9973 - val_loss: 1.5555 - val_accuracy: 0.7245\n",
      "Epoch 46/100\n",
      "19/19 [==============================] - 4s 203ms/step - loss: 0.4721 - accuracy: 0.9522 - val_loss: 1.3593 - val_accuracy: 0.7182\n",
      "Epoch 47/100\n",
      "19/19 [==============================] - 4s 207ms/step - loss: 0.0114 - accuracy: 0.9989 - val_loss: 1.4399 - val_accuracy: 0.7389\n",
      "Epoch 48/100\n",
      "19/19 [==============================] - 4s 203ms/step - loss: 0.0056 - accuracy: 0.9995 - val_loss: 1.6021 - val_accuracy: 0.7277\n",
      "Epoch 49/100\n",
      "19/19 [==============================] - 4s 205ms/step - loss: 0.0071 - accuracy: 0.9979 - val_loss: 1.9489 - val_accuracy: 0.6975\n",
      "Epoch 50/100\n",
      "19/19 [==============================] - 4s 206ms/step - loss: 0.5264 - accuracy: 0.9230 - val_loss: 1.6976 - val_accuracy: 0.7325\n",
      "Epoch 51/100\n",
      "19/19 [==============================] - 4s 207ms/step - loss: 0.0074 - accuracy: 0.9989 - val_loss: 1.7823 - val_accuracy: 0.7229\n",
      "Epoch 52/100\n",
      "19/19 [==============================] - 4s 208ms/step - loss: 0.0053 - accuracy: 0.9995 - val_loss: 1.7681 - val_accuracy: 0.7325\n",
      "Epoch 53/100\n",
      "19/19 [==============================] - 4s 211ms/step - loss: 0.0041 - accuracy: 0.9989 - val_loss: 1.8063 - val_accuracy: 0.7420\n",
      "Epoch 54/100\n",
      "19/19 [==============================] - 4s 209ms/step - loss: 0.3064 - accuracy: 0.9559 - val_loss: 1.5279 - val_accuracy: 0.7452\n",
      "Epoch 55/100\n",
      "19/19 [==============================] - 4s 212ms/step - loss: 0.0063 - accuracy: 0.9989 - val_loss: 1.6605 - val_accuracy: 0.7404\n",
      "Epoch 56/100\n",
      "19/19 [==============================] - 4s 209ms/step - loss: 0.0040 - accuracy: 1.0000 - val_loss: 1.8488 - val_accuracy: 0.7452\n",
      "Epoch 57/100\n",
      "19/19 [==============================] - 4s 211ms/step - loss: 0.5419 - accuracy: 0.9528 - val_loss: 1.4754 - val_accuracy: 0.7197\n",
      "Epoch 58/100\n",
      "19/19 [==============================] - 5s 287ms/step - loss: 0.0212 - accuracy: 0.9963 - val_loss: 1.5259 - val_accuracy: 0.7213\n",
      "Epoch 59/100\n",
      "19/19 [==============================] - 7s 351ms/step - loss: 0.0068 - accuracy: 0.9995 - val_loss: 1.6531 - val_accuracy: 0.7373\n",
      "Epoch 60/100\n",
      "19/19 [==============================] - 6s 313ms/step - loss: 0.0039 - accuracy: 0.9995 - val_loss: 1.7609 - val_accuracy: 0.7325\n",
      "Epoch 61/100\n",
      "19/19 [==============================] - 4s 203ms/step - loss: 0.7999 - accuracy: 0.9517 - val_loss: 1.6132 - val_accuracy: 0.7277\n",
      "Epoch 62/100\n",
      "19/19 [==============================] - 4s 192ms/step - loss: 0.0129 - accuracy: 0.9968 - val_loss: 1.6075 - val_accuracy: 0.7261\n",
      "Epoch 63/100\n",
      "19/19 [==============================] - 4s 212ms/step - loss: 0.0046 - accuracy: 0.9995 - val_loss: 1.7028 - val_accuracy: 0.7420\n",
      "Epoch 64/100\n",
      "19/19 [==============================] - 4s 211ms/step - loss: 0.0040 - accuracy: 0.9989 - val_loss: 1.7700 - val_accuracy: 0.7309\n",
      "Epoch 65/100\n",
      "19/19 [==============================] - 4s 211ms/step - loss: 0.4333 - accuracy: 0.9390 - val_loss: 1.4776 - val_accuracy: 0.7086\n",
      "Epoch 66/100\n",
      "19/19 [==============================] - 4s 217ms/step - loss: 0.0176 - accuracy: 0.9963 - val_loss: 1.6423 - val_accuracy: 0.7102\n",
      "Epoch 67/100\n",
      "19/19 [==============================] - 4s 209ms/step - loss: 0.0054 - accuracy: 0.9989 - val_loss: 1.8286 - val_accuracy: 0.7070\n",
      "Epoch 68/100\n",
      "19/19 [==============================] - 4s 211ms/step - loss: 0.0099 - accuracy: 0.9963 - val_loss: 4.8155 - val_accuracy: 0.5812\n",
      "Epoch 69/100\n",
      "19/19 [==============================] - 4s 211ms/step - loss: 0.1862 - accuracy: 0.9613 - val_loss: 1.7410 - val_accuracy: 0.7293\n",
      "Epoch 70/100\n",
      "19/19 [==============================] - 4s 208ms/step - loss: 0.0039 - accuracy: 0.9995 - val_loss: 1.8106 - val_accuracy: 0.7293\n",
      "Epoch 71/100\n",
      "19/19 [==============================] - 4s 208ms/step - loss: 0.0193 - accuracy: 0.9952 - val_loss: 7.0039 - val_accuracy: 0.5478\n",
      "Epoch 72/100\n",
      "19/19 [==============================] - 4s 210ms/step - loss: 0.3881 - accuracy: 0.9533 - val_loss: 1.6291 - val_accuracy: 0.7277\n",
      "Epoch 73/100\n",
      "19/19 [==============================] - 4s 208ms/step - loss: 0.0057 - accuracy: 0.9989 - val_loss: 1.7796 - val_accuracy: 0.7420\n",
      "Epoch 74/100\n",
      "19/19 [==============================] - 4s 203ms/step - loss: 0.0039 - accuracy: 0.9984 - val_loss: 1.8534 - val_accuracy: 0.7182\n",
      "Epoch 75/100\n",
      "19/19 [==============================] - 4s 205ms/step - loss: 0.2205 - accuracy: 0.9676 - val_loss: 2.0728 - val_accuracy: 0.7277\n",
      "Epoch 76/100\n",
      "19/19 [==============================] - 4s 216ms/step - loss: 0.0106 - accuracy: 0.9963 - val_loss: 1.8278 - val_accuracy: 0.7245\n",
      "Epoch 77/100\n",
      "19/19 [==============================] - 5s 286ms/step - loss: 0.0034 - accuracy: 0.9989 - val_loss: 1.9524 - val_accuracy: 0.7197\n",
      "Epoch 78/100\n",
      "19/19 [==============================] - 6s 318ms/step - loss: 0.0041 - accuracy: 0.9984 - val_loss: 2.0297 - val_accuracy: 0.7373\n",
      "Epoch 79/100\n",
      "19/19 [==============================] - 6s 302ms/step - loss: 0.1738 - accuracy: 0.9607 - val_loss: 1.8170 - val_accuracy: 0.7389\n",
      "Epoch 80/100\n",
      "19/19 [==============================] - 6s 300ms/step - loss: 0.0065 - accuracy: 0.9979 - val_loss: 1.9743 - val_accuracy: 0.7229\n",
      "Epoch 81/100\n",
      "19/19 [==============================] - 6s 296ms/step - loss: 0.0033 - accuracy: 0.9989 - val_loss: 2.0285 - val_accuracy: 0.7293\n",
      "Epoch 82/100\n",
      "19/19 [==============================] - 3s 167ms/step - loss: 0.1830 - accuracy: 0.9655 - val_loss: 1.8007 - val_accuracy: 0.7245\n",
      "Epoch 83/100\n",
      "19/19 [==============================] - 3s 186ms/step - loss: 0.0072 - accuracy: 0.9989 - val_loss: 1.9518 - val_accuracy: 0.7357\n",
      "Epoch 84/100\n",
      "19/19 [==============================] - 4s 207ms/step - loss: 0.0032 - accuracy: 0.9995 - val_loss: 1.9879 - val_accuracy: 0.7341\n",
      "Epoch 85/100\n",
      "19/19 [==============================] - 4s 205ms/step - loss: 0.0049 - accuracy: 0.9984 - val_loss: 4.1351 - val_accuracy: 0.6720\n",
      "Epoch 86/100\n",
      "19/19 [==============================] - 4s 206ms/step - loss: 0.1875 - accuracy: 0.9613 - val_loss: 1.9117 - val_accuracy: 0.7309\n",
      "Epoch 87/100\n",
      "19/19 [==============================] - 4s 199ms/step - loss: 0.0040 - accuracy: 0.9989 - val_loss: 1.9942 - val_accuracy: 0.7261\n",
      "Epoch 88/100\n",
      "19/19 [==============================] - 4s 202ms/step - loss: 0.0026 - accuracy: 0.9989 - val_loss: 2.0340 - val_accuracy: 0.7357\n",
      "Epoch 89/100\n",
      "19/19 [==============================] - 4s 199ms/step - loss: 0.0145 - accuracy: 0.9958 - val_loss: 5.0951 - val_accuracy: 0.5955\n",
      "Epoch 90/100\n",
      "19/19 [==============================] - 4s 200ms/step - loss: 0.1146 - accuracy: 0.9825 - val_loss: 1.9937 - val_accuracy: 0.7197\n",
      "Epoch 91/100\n",
      "19/19 [==============================] - 4s 202ms/step - loss: 0.0035 - accuracy: 0.9989 - val_loss: 2.0160 - val_accuracy: 0.7197\n",
      "Epoch 92/100\n",
      "19/19 [==============================] - 4s 201ms/step - loss: 0.0023 - accuracy: 0.9995 - val_loss: 2.1472 - val_accuracy: 0.7357\n",
      "Epoch 93/100\n",
      "19/19 [==============================] - 4s 208ms/step - loss: 0.1471 - accuracy: 0.9899 - val_loss: 1.8277 - val_accuracy: 0.7484\n",
      "Epoch 94/100\n",
      "19/19 [==============================] - 4s 208ms/step - loss: 0.0053 - accuracy: 0.9995 - val_loss: 2.0265 - val_accuracy: 0.7309\n",
      "Epoch 95/100\n",
      "19/19 [==============================] - 4s 201ms/step - loss: 0.0023 - accuracy: 0.9995 - val_loss: 2.1797 - val_accuracy: 0.7293\n",
      "Epoch 96/100\n",
      "19/19 [==============================] - 4s 201ms/step - loss: 0.4166 - accuracy: 0.9607 - val_loss: 2.2534 - val_accuracy: 0.6959\n",
      "Epoch 97/100\n",
      "19/19 [==============================] - 4s 203ms/step - loss: 0.0269 - accuracy: 0.9931 - val_loss: 1.8948 - val_accuracy: 0.7293\n",
      "Epoch 98/100\n",
      "19/19 [==============================] - 4s 203ms/step - loss: 0.0045 - accuracy: 0.9995 - val_loss: 1.9678 - val_accuracy: 0.7373\n",
      "Epoch 99/100\n",
      "19/19 [==============================] - 4s 200ms/step - loss: 0.0029 - accuracy: 0.9995 - val_loss: 2.0405 - val_accuracy: 0.7325\n",
      "Epoch 100/100\n",
      "19/19 [==============================] - 4s 201ms/step - loss: 0.0039 - accuracy: 0.9989 - val_loss: 4.8550 - val_accuracy: 0.6051\n"
     ]
    }
   ],
   "source": [
    "epochs_ = 100\n",
    "history = model.fit(train_image,\n",
    "        train_label_encoded,\n",
    "        epochs=epochs_,\n",
    "        batch_size=100,\n",
    "        #callbacks=callbacks_list,\n",
    "        validation_data=(val_image,val_label_encoded)\n",
    "        )"
   ]
  },
  {
   "cell_type": "code",
   "execution_count": 14,
   "metadata": {},
   "outputs": [
    {
     "name": "stderr",
     "output_type": "stream",
     "text": [
      "C:\\Users\\Victor\\AppData\\Roaming\\Python\\Python310\\site-packages\\keras\\src\\engine\\training.py:3000: UserWarning: You are saving your model as an HDF5 file via `model.save()`. This file format is considered legacy. We recommend using instead the native Keras format, e.g. `model.save('my_model.keras')`.\n",
      "  saving_api.save_model(\n"
     ]
    }
   ],
   "source": [
    "model.save('./model/model_Res_20240405t1515.h5')"
   ]
  },
  {
   "cell_type": "markdown",
   "metadata": {},
   "source": [
    "## 模型评估"
   ]
  },
  {
   "cell_type": "code",
   "execution_count": 15,
   "metadata": {},
   "outputs": [
    {
     "name": "stdout",
     "output_type": "stream",
     "text": [
      "dict_keys(['loss', 'accuracy', 'val_loss', 'val_accuracy'])\n"
     ]
    },
    {
     "data": {
      "image/png": "[encoded data removed]",
      "text/plain": [
       "<Figure size 640x480 with 1 Axes>"
      ]
     },
     "metadata": {},
     "output_type": "display_data"
    }
   ],
   "source": [
    "history_dir = history.history\n",
    "print(history_dir.keys())\n",
    "loss_values = history_dir[\"loss\"]\n",
    "accuracy_values = history_dir[\"accuracy\"]\n",
    "val_loss_values = history_dir[\"val_loss\"]\n",
    "val_accuracy_values = history_dir[\"val_accuracy\"]\n",
    "x_epochs = range(1,epochs_+1)\n",
    "plt.plot(x_epochs,loss_values,\"r\",label = \"train_loss\")\n",
    "plt.plot(x_epochs,val_loss_values,\"b\",label = \"validation_loss\")\n",
    "plt.title(\"training and validation loss\")\n",
    "plt.xlabel(\"epochs\")\n",
    "plt.ylabel(\"loss\")\n",
    "plt.legend()\n",
    "plt.show()"
   ]
  },
  {
   "cell_type": "code",
   "execution_count": 16,
   "metadata": {},
   "outputs": [
    {
     "data": {
      "image/png": "[encoded data removed]",
      "text/plain": [
       "<Figure size 640x480 with 1 Axes>"
      ]
     },
     "metadata": {},
     "output_type": "display_data"
    }
   ],
   "source": [
    "plt.plot(x_epochs,accuracy_values,\"r\",label = \"train_accuracy\")\n",
    "plt.plot(x_epochs,val_accuracy_values,\"b\",label = \"validation_accuracy\")\n",
    "plt.title(\"training and validation accuracy\")\n",
    "plt.xlabel(\"epochs\")\n",
    "plt.ylabel(\"accuracy\")\n",
    "plt.legend()\n",
    "plt.show()"
   ]
  },
  {
   "cell_type": "code",
   "execution_count": 17,
   "metadata": {},
   "outputs": [
    {
     "name": "stdout",
     "output_type": "stream",
     "text": [
      "20/20 [==============================] - 0s 24ms/step - loss: 4.4216 - accuracy: 0.6513\n",
      "test_loss: 4.4215898513793945 ; test_accuracy: 0.6512739062309265\n",
      "20/20 [==============================] - 1s 24ms/step\n",
      "原始： [1 1 1 1 1 0 1 1 0 1 1 1 1 1 1 1 1 1 1 1]\n",
      "结果： [0 1 1 1 1 0 0 0 0 0 0 1 0 1 0 1 0 1 0 1]\n"
     ]
    }
   ],
   "source": [
    "results = model.evaluate(test_image,test_label_encoded)\n",
    "print(\"test_loss:\",results[0],\"; test_accuracy:\",results[1])\n",
    "\n",
    "y = np.argmax(model.predict(test_image[:]),axis=1)\n",
    "print('原始：',y[:20])\n",
    "print('结果：',test_label[:20])"
   ]
  },
  {
   "cell_type": "code",
   "execution_count": null,
   "metadata": {},
   "outputs": [],
   "source": []
  }
 ],
 "metadata": {
  "kernelspec": {
   "display_name": "base",
   "language": "python",
   "name": "python3"
  },
  "language_info": {
   "codemirror_mode": {
    "name": "ipython",
    "version": 3
   },
   "file_extension": ".py",
   "mimetype": "text/x-python",
   "name": "python",
   "nbconvert_exporter": "python",
   "pygments_lexer": "ipython3",
   "version": "3.10.9"
  }
 },
 "nbformat": 4,
 "nbformat_minor": 2
}
